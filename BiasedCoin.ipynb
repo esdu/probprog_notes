{
  "nbformat": 4,
  "nbformat_minor": 0,
  "metadata": {
    "colab": {
      "name": "BiasedCoin.ipynb",
      "provenance": [],
      "collapsed_sections": [],
      "include_colab_link": true
    },
    "kernelspec": {
      "name": "python3",
      "display_name": "Python 3"
    }
  },
  "cells": [
    {
      "cell_type": "markdown",
      "metadata": {
        "id": "view-in-github",
        "colab_type": "text"
      },
      "source": [
        "<a href=\"https://colab.research.google.com/github/esdu/probprog_notes/blob/master/BiasedCoin.ipynb\" target=\"_parent\"><img src=\"https://colab.research.google.com/assets/colab-badge.svg\" alt=\"Open In Colab\"/></a>"
      ]
    },
    {
      "cell_type": "markdown",
      "metadata": {
        "id": "aaAEvlQdCnvU",
        "colab_type": "text"
      },
      "source": [
        "## Infer the probability of heads of a biased coin, with TF2\n",
        "\n",
        "A toy inference problem to make sure we have TFP + TF2 running properly."
      ]
    },
    {
      "cell_type": "code",
      "metadata": {
        "id": "FH7xWikNMknE",
        "colab_type": "code",
        "outputId": "584f0952-a484-4e98-b0a2-c81e5e3d5eb6",
        "colab": {
          "base_uri": "https://localhost:8080/",
          "height": 34
        }
      },
      "source": [
        "%tensorflow_version 2.x"
      ],
      "execution_count": 0,
      "outputs": [
        {
          "output_type": "stream",
          "text": [
            "TensorFlow 2.x selected.\n"
          ],
          "name": "stdout"
        }
      ]
    },
    {
      "cell_type": "code",
      "metadata": {
        "id": "LUgN8uqvJLNu",
        "colab_type": "code",
        "colab": {}
      },
      "source": [
        "ACTUAL_PROB = 0.2\n",
        "N_OBS = 10000"
      ],
      "execution_count": 0,
      "outputs": []
    },
    {
      "cell_type": "code",
      "metadata": {
        "id": "GgSiWx6vhEDd",
        "colab_type": "code",
        "colab": {}
      },
      "source": [
        "#%env AUTOGRAPH_VERBOSITY=10 # turn this on to debug autograph warnings"
      ],
      "execution_count": 0,
      "outputs": []
    },
    {
      "cell_type": "code",
      "metadata": {
        "id": "fY937JGTeO6T",
        "colab_type": "code",
        "outputId": "48d9c39a-bbdd-4ff5-ef2a-6e37ba83b3b0",
        "colab": {
          "base_uri": "https://localhost:8080/",
          "height": 148
        }
      },
      "source": [
        "!pip install tensorflow-probability==0.8 # 0.8 is 2x faster than 0.7 for this problem!\n",
        "#!pip install gast==0.2.2"
      ],
      "execution_count": 0,
      "outputs": [
        {
          "output_type": "stream",
          "text": [
            "Requirement already satisfied: tensorflow-probability==0.8 in /usr/local/lib/python3.6/dist-packages (0.8.0)\n",
            "Requirement already satisfied: gast<0.3,>=0.2 in /tensorflow-2.0.0/python3.6 (from tensorflow-probability==0.8) (0.2.2)\n",
            "Requirement already satisfied: numpy>=1.13.3 in /tensorflow-2.0.0/python3.6 (from tensorflow-probability==0.8) (1.17.4)\n",
            "Requirement already satisfied: decorator in /usr/local/lib/python3.6/dist-packages (from tensorflow-probability==0.8) (4.4.1)\n",
            "Requirement already satisfied: cloudpickle==1.1.1 in /usr/local/lib/python3.6/dist-packages (from tensorflow-probability==0.8) (1.1.1)\n",
            "Requirement already satisfied: six>=1.10.0 in /tensorflow-2.0.0/python3.6 (from tensorflow-probability==0.8) (1.13.0)\n"
          ],
          "name": "stdout"
        }
      ]
    },
    {
      "cell_type": "code",
      "metadata": {
        "id": "pC6TYpaJA0rl",
        "colab_type": "code",
        "colab": {}
      },
      "source": [
        "%matplotlib inline\n",
        "import matplotlib.pyplot as plt\n",
        "import seaborn as sns\n",
        "import numpy as np\n",
        "import os\n",
        "import tensorflow as tf\n",
        "import tensorflow_probability as tfp"
      ],
      "execution_count": 0,
      "outputs": []
    },
    {
      "cell_type": "code",
      "metadata": {
        "id": "Pjkeuwr_d6p3",
        "colab_type": "code",
        "outputId": "b68ea613-0771-4608-fe78-bba1bba9d3d1",
        "colab": {
          "base_uri": "https://localhost:8080/",
          "height": 34
        }
      },
      "source": [
        "tf.__version__"
      ],
      "execution_count": 0,
      "outputs": [
        {
          "output_type": "execute_result",
          "data": {
            "text/plain": [
              "'2.0.0'"
            ]
          },
          "metadata": {
            "tags": []
          },
          "execution_count": 6
        }
      ]
    },
    {
      "cell_type": "code",
      "metadata": {
        "id": "682ImQVbduhY",
        "colab_type": "code",
        "outputId": "9909597d-4721-4be5-938f-23dda7d6b405",
        "colab": {
          "base_uri": "https://localhost:8080/",
          "height": 34
        }
      },
      "source": [
        "tfp.__version__"
      ],
      "execution_count": 0,
      "outputs": [
        {
          "output_type": "execute_result",
          "data": {
            "text/plain": [
              "'0.8.0'"
            ]
          },
          "metadata": {
            "tags": []
          },
          "execution_count": 7
        }
      ]
    },
    {
      "cell_type": "markdown",
      "metadata": {
        "id": "E3VhdaJbjY1O",
        "colab_type": "text"
      },
      "source": [
        "We write this out to a file so @tf.function can find its source code (you can also run it in the notebook, it'll just throw a warning)"
      ]
    },
    {
      "cell_type": "code",
      "metadata": {
        "id": "jxehrPOvBdgt",
        "colab_type": "code",
        "outputId": "b733fac4-c7e2-4716-93d3-7f13f1632ddd",
        "colab": {
          "base_uri": "https://localhost:8080/",
          "height": 34
        }
      },
      "source": [
        "%%writefile inference.py\n",
        "import matplotlib.pyplot as plt\n",
        "import seaborn as sns\n",
        "import numpy as np\n",
        "import os\n",
        "import tensorflow as tf\n",
        "import tensorflow_probability as tfp\n",
        "\n",
        "tfd = tfp.distributions\n",
        "\n",
        "def joint_log_prob(prob, obs):\n",
        "    rv_prob = tfd.Beta(1,1) # flat prior\n",
        "    rv_observations = tfd.Bernoulli(probs=prob, dtype=tf.int32)\n",
        "    return rv_prob.log_prob(prob) + tf.reduce_sum(rv_observations.log_prob(obs))\n",
        "\n",
        "@tf.function\n",
        "def graph_mcmc(observations):\n",
        "  def unnormalized_log_posterior(prob):\n",
        "    return joint_log_prob(prob, observations)\n",
        "\n",
        "  # Set the chain's start state.\n",
        "  initial_chain_state = [\n",
        "      0.5 * tf.ones([], dtype=tf.float32, name=\"init_prob\"),\n",
        "  ]\n",
        "\n",
        "  num_results = 5000\n",
        "  num_burnin_steps = 500\n",
        "  kernel = tfp.mcmc.HamiltonianMonteCarlo(\n",
        "      target_log_prob_fn=unnormalized_log_posterior,\n",
        "      num_leapfrog_steps=2,\n",
        "      step_size=0.05)\n",
        "  kernel = tfp.mcmc.SimpleStepSizeAdaptation(\n",
        "      inner_kernel=kernel, num_adaptation_steps=int(num_burnin_steps * 0.8))\n",
        "\n",
        "  def trace_fn_(_, pkr):\n",
        "    #return [\n",
        "    #  pkr.inner_results.accepted_results.step_size,\n",
        "    #  pkr.inner_results.log_accept_ratio\n",
        "    #  pkr.inner_results.is_accepted\n",
        "    #]\n",
        "    return pkr\n",
        "  \n",
        "  # Sample from the chain.\n",
        "  [\n",
        "      prob_samples,\n",
        "  ], kernel_results = tfp.mcmc.sample_chain(\n",
        "      num_results=num_results,\n",
        "      num_burnin_steps=num_burnin_steps,\n",
        "      current_state=initial_chain_state,\n",
        "      kernel=kernel,\n",
        "      trace_fn=trace_fn_)\n",
        "  \n",
        "  # Note: It's ~18% faster to set trace_fn=None.\n",
        "\n",
        "  return prob_samples, kernel_results"
      ],
      "execution_count": 0,
      "outputs": [
        {
          "output_type": "stream",
          "text": [
            "Overwriting inference.py\n"
          ],
          "name": "stdout"
        }
      ]
    },
    {
      "cell_type": "code",
      "metadata": {
        "id": "kw5ArgcIhgog",
        "colab_type": "code",
        "outputId": "e2833c1a-b29b-4784-ad39-83f796285fc4",
        "colab": {
          "base_uri": "https://localhost:8080/",
          "height": 51
        }
      },
      "source": [
        "%%time\n",
        "\n",
        "from inference import graph_mcmc\n",
        "\n",
        "# Simulate data\n",
        "observations = tfp.distributions.Bernoulli(probs=ACTUAL_PROB, dtype=tf.int32).sample(N_OBS)\n",
        "\n",
        "# Infer \\hat{prob}\n",
        "prob_samples, kernel_results = graph_mcmc(observations)"
      ],
      "execution_count": 0,
      "outputs": [
        {
          "output_type": "stream",
          "text": [
            "CPU times: user 6.66 s, sys: 205 ms, total: 6.87 s\n",
            "Wall time: 4.65 s\n"
          ],
          "name": "stdout"
        }
      ]
    },
    {
      "cell_type": "code",
      "metadata": {
        "id": "RHfQN9W2PgsM",
        "colab_type": "code",
        "outputId": "88a59082-a584-4105-f997-d55313f7071f",
        "colab": {
          "base_uri": "https://localhost:8080/",
          "height": 34
        }
      },
      "source": [
        "kernel_results.inner_results.is_accepted.numpy().mean()"
      ],
      "execution_count": 0,
      "outputs": [
        {
          "output_type": "execute_result",
          "data": {
            "text/plain": [
              "0.7974"
            ]
          },
          "metadata": {
            "tags": []
          },
          "execution_count": 10
        }
      ]
    },
    {
      "cell_type": "code",
      "metadata": {
        "id": "1rOqKmhxbdgT",
        "colab_type": "code",
        "outputId": "029b0466-7c56-4a17-86b8-9aa24f6f504d",
        "colab": {
          "base_uri": "https://localhost:8080/",
          "height": 281
        }
      },
      "source": [
        "sns.distplot(prob_samples); plt.title(\"Posterior\");"
      ],
      "execution_count": 0,
      "outputs": [
        {
          "output_type": "display_data",
          "data": {
            "image/png": "[encoded data removed]",
            "text/plain": [
              "<Figure size 432x288 with 1 Axes>"
            ]
          },
          "metadata": {
            "tags": []
          }
        }
      ]
    }
  ]
}